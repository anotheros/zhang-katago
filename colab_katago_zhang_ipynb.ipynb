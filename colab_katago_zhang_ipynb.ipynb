{
  "nbformat": 4,
  "nbformat_minor": 0,
  "metadata": {
    "colab": {
      "name": "“colab-katago-zhang.ipynb”的副本",
      "provenance": [],
      "collapsed_sections": []
    },
    "kernelspec": {
      "name": "python3",
      "display_name": "Python 3"
    },
    "accelerator": "GPU"
  },
  "cells": [
    {
      "cell_type": "code",
      "metadata": {
        "id": "nPaa2KJt8Kyn",
        "colab_type": "code",
        "colab": {
          "base_uri": "https://localhost:8080/",
          "height": 148
        },
        "outputId": "5938e5f5-38cf-4358-8f58-192394801db6"
      },
      "source": [
        "USER_NAME=\"yyyyy\"\n",
        "PASSWORD=\"xxxxx\"\n",
        "MAXVISITS=1000\n",
        "MAXTIME=10\n",
        "PONDERING=\"true\"\n",
        "# optional args\n",
        "# supports: OPENCL, CUDA or AUTO\n",
        "KATAGO_BACKEND=\"AUTO\"\n",
        "# supports: 40b, 30b, 20b, 40b-large or AUTO\n",
        "WEIGHT_FILE=\"AUTO\" \n",
        "\n",
        "\n",
        "import subprocess\n",
        "if KATAGO_BACKEND == \"AUTO\":\n",
        "  gpu_name=str(subprocess.check_output(\"nvidia-smi -q | grep \\\"Product Name\\\" | cut -d\\\":\\\" -f2 | tr -cd '[:alnum:]._-'\", shell=True), encoding='utf-8')\n",
        "  if gpu_name == \"TeslaT4\":\n",
        "    KATAGO_BACKEND=\"CUDA\"\n",
        "  else:\n",
        "    KATAGO_BACKEND=\"OPENCL\"\n",
        "!echo \"Using Katago Backend: \" $KATAGO_BACKEND\n",
        "\n",
        "if WEIGHT_FILE == \"AUTO\":\n",
        "  gpu_name=str(subprocess.check_output(\"nvidia-smi -q | grep \\\"Product Name\\\" | cut -d\\\":\\\" -f2 | tr -cd '[:alnum:]._-'\", shell=True), encoding='utf-8')\n",
        "  !echo \"gpu_name: \" $gpu_name\n",
        "  if gpu_name == \"TeslaK80\" or gpu_name == \"TeslaP4\":\n",
        "    WEIGHT_FILE=\"20b\"\n",
        "  else:\n",
        "    WEIGHT_FILE=\"40b\"\n",
        "\n",
        "!echo \"Using Katago Weight: \" $WEIGHT_FILE\n",
        "\n",
        "weight_urls = {\n",
        "    '40b': 'https://github.com/lightvector/KataGo/releases/download/v1.4.5/g170-b40c256x2-s5095420928-d1229425124.bin.gz',\n",
        "    '30b': 'https://github.com/lightvector/KataGo/releases/download/v1.4.5/g170-b30c320x2-s4824661760-d1229536699.bin.gz',\n",
        "    '20b': 'https://github.com/lightvector/KataGo/releases/download/v1.4.5/g170e-b20c256x2-s5303129600-d1228401921.bin.gz',\n",
        "    '40b-large': 'https://github.com/kinfkong/katago-colab/releases/download/v1.4.5/40b384.bin.gz'\n",
        "}\n",
        "\n",
        "# Install useful stuff\n",
        "! apt install --yes ssh screen nano htop ranger git libzip4 1>/dev/null\n",
        "! pip install oss2 1>/dev/null\n",
        "%cd /content\n",
        "\n",
        "!rm -rf katago-colab\n",
        "!git clone https://github.com/kinfkong/katago-colab.git 1>/dev/null\n",
        "\n",
        "#download the binarires\n",
        "!wget --quiet https://github.com/kinfkong/katago-colab/releases/download/v1.4.5/katago-$KATAGO_BACKEND -O katago\n",
        "!chmod +x /content/katago\n",
        "\n",
        "!mkdir -p /root/.katago/\n",
        "!cp -r /content/katago-colab/opencltuning /root/.katago/\n",
        "\n",
        "#download the weights\n",
        "weight_url = weight_urls[WEIGHT_FILE]\n",
        "!wget --quiet $weight_url -O $WEIGHT_FILE\".bin.gz\" \n",
        "!rm -rf weight.bin.gz\n",
        "!ln -s $WEIGHT_FILE\".bin.gz\" weight.bin.gz\n",
        "\n",
        "%cd /content\n",
        "!git clone https://github.com/kinfkong/zhang-katago.git 1>/dev/null\n",
        "%cd /content/zhang-katago\n",
        "!sed -i 's/^.*userName:.*$/ userName: $USER_NAME/g' ./conf.yaml\n",
        "!sed -i 's/^.*password:.*$/ password: $PASSWORD/g' ./conf.yaml\n",
        "!sed -i 's/^.*maxVisits = .*$/maxVisits = $MAXVISITS/g' /content/katago-colab/config/gtp_colab.cfg\n",
        "!sed -i 's/^.*maxTime = .*$/maxTime = $MAXTIME/g' /content/katago-colab/config/gtp_colab.cfg\n",
        "!sed -i 's/^.*ponderingEnabled = .*$/ponderingEnabled = $PONDERING/g' /content/katago-colab/config/gtp_colab.cfg\n",
        "!cat ./conf.yaml\n",
        "!cat /content/katago-colab/config/gtp_colab.cfg |grep maxTime\n",
        "!cat /content/katago-colab/config/gtp_colab.cfg |grep maxVisits\n",
        "!cat /content/katago-colab/config/gtp_colab.cfg |grep ponderingEnabled\n",
        "!./start.sh & disown\n",
        "\n",
        "!echo \"done!\""
      ],
      "execution_count": null,
      "outputs": [
        {
          "output_type": "stream",
          "text": [
            "Using Katago Backend:  OPENCL\n",
            "gpu_name:  TeslaK80\n",
            "Using Katago Weight:  20b\n",
            "\n",
            "WARNING: apt does not have a stable CLI interface. Use with caution in scripts.\n",
            "\n"
          ],
          "name": "stdout"
        }
      ]
    },
    {
      "cell_type": "code",
      "metadata": {
        "id": "xkrw0IvmYIn2",
        "colab_type": "code",
        "colab": {}
      },
      "source": [
        ""
      ],
      "execution_count": null,
      "outputs": []
    },
    {
      "cell_type": "markdown",
      "metadata": {
        "id": "X1Wx4EZbOkS7",
        "colab_type": "text"
      },
      "source": [
        "#以下的都是调试用的代码，普通用户可以忽略下面的所有内容"
      ]
    },
    {
      "cell_type": "markdown",
      "metadata": {
        "id": "YUrfBH3MPBz4",
        "colab_type": "text"
      },
      "source": [
        "显示GPU类型"
      ]
    },
    {
      "cell_type": "code",
      "metadata": {
        "id": "LMabHvkwOsTl",
        "colab_type": "code",
        "colab": {}
      },
      "source": [
        "!watch -n 1 nvidia-smi"
      ],
      "execution_count": null,
      "outputs": []
    },
    {
      "cell_type": "code",
      "metadata": {
        "id": "nKvve9rvGip4",
        "colab_type": "code",
        "colab": {
          "base_uri": "https://localhost:8080/",
          "height": 136
        },
        "outputId": "2c3bddfb-042b-4fa3-9cdb-98541f6280d8"
      },
      "source": [
        "!/content/katago gtp -config /content/katago-colab/config/gtp_colab.cfg -model /content/weight.bin.gz"
      ],
      "execution_count": null,
      "outputs": [
        {
          "output_type": "stream",
          "text": [
            "KataGo v1.4.5\n",
            "Using TrompTaylor rules initially, unless GTP/GUI overrides this\n",
            "Loaded config /content/katago-colab/config/gtp_colab.cfg\n",
            "Loaded model /content/weight.bin.gz\n",
            "Model name: g170-b40c256x2-s5095420928-d1229425124\n",
            "GTP ready, beginning main protocol loop\n",
            "^C\n"
          ],
          "name": "stdout"
        }
      ]
    }
  ]
}